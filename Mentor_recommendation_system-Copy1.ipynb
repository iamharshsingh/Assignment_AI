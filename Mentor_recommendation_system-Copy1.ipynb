{
 "cells": [
  {
   "cell_type": "code",
   "execution_count": null,
   "id": "a915c736-7a94-43c6-bcb8-fc06d199e04f",
   "metadata": {},
   "outputs": [
    {
     "name": "stdout",
     "output_type": "stream",
     "text": [
      "Enter your preferred subjects (comma separated):\n"
     ]
    },
    {
     "name": "stdin",
     "output_type": "stream",
     "text": [
      " current affairs\n"
     ]
    },
    {
     "name": "stdout",
     "output_type": "stream",
     "text": [
      "Enter your target college:\n"
     ]
    }
   ],
   "source": [
    "import pandas as pd\n",
    "import numpy as np\n",
    "from sklearn.preprocessing import MultiLabelBinarizer\n",
    "from sklearn.neighbors import NearestNeighbors\n",
    "\n",
    "\n",
    "mentors_data = pd.DataFrame([\n",
    "    {\"Name\": \"Ananya Rao\", \"Expertise\": [\"Legal Reasoning\"], \"College\": \"NLSIU Bangalore\", \"Style\": \"Visual\"},\n",
    "    {\"Name\": \"Vishal Mehta\", \"Expertise\": [\"Logical Reasoning\"], \"College\": \"NALSAR Hyderabad\", \"Style\": \"Auditory\"},\n",
    "    {\"Name\": \"Raj Singh\", \"Expertise\": [\"English\", \"Legal\"], \"College\": \"NUJS Kolkata\", \"Style\": \"Reading/Writing\"},\n",
    "    {\"Name\": \"Meera Das\", \"Expertise\": [\"Current Affairs\"], \"College\": \"NLU Delhi\", \"Style\": \"Kinesthetic\"},\n",
    "    {\"Name\": \"Priya Kapoor\", \"Expertise\": [\"Legal Reasoning\", \"Logical Reasoning\"], \"College\": \"NLU Jodhpur\", \"Style\": \"Visual\"},\n",
    "])\n",
    "\n",
    "\n",
    "print(\"Enter your preferred subjects (comma separated):\")\n",
    "subject_input = input().split(',')\n",
    "\n",
    "print(\"Enter your target college:\")\n",
    "college_input = input()\n",
    "\n",
    "print(\"Enter your learning style (Visual, Auditory, Reading/Writing, Kinesthetic):\")\n",
    "style_input = input()\n",
    "\n",
    "aspirant_profile = {\n",
    "    \"Expertise\": [s.strip() for s in subject_input],\n",
    "    \"College\": college_input.strip(),\n",
    "    \"Style\": style_input.strip()\n",
    "}\n",
    "def encode_data(df):\n",
    "    mlb = MultiLabelBinarizer()\n",
    "    subjects_encoded = mlb.fit_transform(df[\"Expertise\"])\n",
    "    subjects_df = pd.DataFrame(subjects_encoded, columns=mlb.classes_)\n",
    "\n",
    "    college_enc = pd.get_dummies(df[\"College\"], prefix=\"College\")\n",
    "    style_enc = pd.get_dummies(df[\"Style\"], prefix=\"Style\")\n",
    "\n",
    "    final_df = pd.concat([subjects_df, college_enc, style_enc], axis=1)\n",
    "    return final_df, mlb\n",
    "\n",
    "X, mlb = encode_data(mentors_data)\n",
    "\n",
    "user_df = pd.DataFrame([aspirant_profile])\n",
    "user_encoded, _ = encode_data(user_df)\n",
    "\n",
    "\n",
    "for col in X.columns:\n",
    "    if col not in user_encoded.columns:\n",
    "        user_encoded[col] = 0\n",
    "user_encoded = user_encoded[X.columns]\n",
    "\n",
    "\n",
    "model = NearestNeighbors(n_neighbors=3, metric='cosine')\n",
    "model.fit(X)\n",
    "distances, indices = model.kneighbors(user_encoded)\n",
    "\n",
    "recommended_mentors = mentors_data.iloc[indices[0]]\n",
    "print(\"\\nTop Mentor Recommendations:\")\n",
    "print(recommended_mentors[[\"Name\", \"Expertise\", \"College\", \"Style\"]])\n"
   ]
  },
  {
   "cell_type": "code",
   "execution_count": null,
   "id": "1b743273-8a1a-40ef-8a18-8998a1d7051f",
   "metadata": {},
   "outputs": [],
   "source": []
  }
 ],
 "metadata": {
  "kernelspec": {
   "display_name": "Python 3 (ipykernel)",
   "language": "python",
   "name": "python3"
  },
  "language_info": {
   "codemirror_mode": {
    "name": "ipython",
    "version": 3
   },
   "file_extension": ".py",
   "mimetype": "text/x-python",
   "name": "python",
   "nbconvert_exporter": "python",
   "pygments_lexer": "ipython3",
   "version": "3.12.3"
  }
 },
 "nbformat": 4,
 "nbformat_minor": 5
}
